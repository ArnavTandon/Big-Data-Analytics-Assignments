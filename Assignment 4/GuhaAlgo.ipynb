{
 "cells": [
  {
   "cell_type": "code",
   "execution_count": 1,
   "metadata": {},
   "outputs": [],
   "source": [
    "import pandas as pd\n",
    "import ast\n",
    "from collections import Counter\n",
    "from tqdm import tqdm"
   ]
  },
  {
   "cell_type": "code",
   "execution_count": 17,
   "metadata": {},
   "outputs": [
    {
     "data": {
      "text/plain": [
       "(11980, 33)"
      ]
     },
     "execution_count": 17,
     "metadata": {},
     "output_type": "execute_result"
    }
   ],
   "source": [
    "df = pd.read_csv('tweets.csv')\n",
    "df.shape"
   ]
  },
  {
   "cell_type": "code",
   "execution_count": 18,
   "metadata": {},
   "outputs": [],
   "source": [
    "def get_hashtags(x):\n",
    "    x = ast.literal_eval(x)\n",
    "    tags = []\n",
    "    if x['hashtags']:\n",
    "        for i in x['hashtags']:\n",
    "            tags.append(i['text'])\n",
    "    return tags"
   ]
  },
  {
   "cell_type": "code",
   "execution_count": 19,
   "metadata": {},
   "outputs": [],
   "source": [
    "hashtags = df.entities.apply(get_hashtags).to_list()\n",
    "\n",
    "tags = [item for sublist in hashtags for item in sublist]\n",
    "\n",
    "tuples_for_histogram = Counter(tags)#.most_common()\n",
    "\n",
    "# tuples_for_histogram"
   ]
  },
  {
   "cell_type": "code",
   "execution_count": 20,
   "metadata": {},
   "outputs": [],
   "source": [
    "arr = []\n",
    "# for tup in tuples_for_histogram:\n",
    "#     arr.append(tup[1])\n",
    "for tup in tuples_for_histogram:\n",
    "    arr.append(tuples_for_histogram[tup])"
   ]
  },
  {
   "cell_type": "code",
   "execution_count": 3,
   "metadata": {
    "scrolled": true
   },
   "outputs": [
    {
     "name": "stdout",
     "output_type": "stream",
     "text": [
      "Input Array [4, 2, 3, 6, 5, 6, 12, 16]\n",
      "Size of array 8\n",
      "Number of buckets 3\n"
     ]
    }
   ],
   "source": [
    "arr= [4, 2, 3, 6, 5, 6, 12, 16]\n",
    "n=len(arr) #Number of elements \n",
    "b=3 #number of buckets\n",
    "\n",
    "print(\"Input Array\", arr) \n",
    "print(\"Size of array\", n) \n",
    "print(\"Number of buckets\", b)\n",
    "\n",
    "sum_arr = [0]*(n+1) \n",
    "sqsum = [0]*(n+1) \n",
    "best_err = [[0 for m in range(b+1)] for n in range(n+1)] \n",
    "min_index = [0]*(n+1)\n",
    "\n",
    "for i in range(1, n+1): \n",
    "    sum_arr[i]=sum_arr[i-1]+arr[i-1]\n",
    "    sqsum[i]=sqsum[i-1]+(arr[i-1]*arr[i-1])\n",
    "\n",
    "def get_squared_error(a,b): \n",
    "    s2 = sqsum[b]-sqsum[a-1] \n",
    "    s1 = sum_arr[b]-sum_arr[a-1] \n",
    "    return s2-s1**2/(b-a+1)\n",
    "\n",
    "# print(\"Sum array\",sum_arr) \n",
    "# print(\"Sq Sum array\",sqsum) \n",
    "# print(\"best error\",best_err)"
   ]
  },
  {
   "cell_type": "code",
   "execution_count": 4,
   "metadata": {},
   "outputs": [],
   "source": [
    "last_boundary = -1\n",
    "delta = 2"
   ]
  },
  {
   "cell_type": "code",
   "execution_count": 5,
   "metadata": {},
   "outputs": [
    {
     "name": "stderr",
     "output_type": "stream",
     "text": [
      "100%|██████████| 8/8 [00:00<00:00, 1067.66it/s]\n",
      "100%|██████████| 8/8 [00:00<00:00, 1192.96it/s]\n",
      "100%|██████████| 8/8 [00:00<00:00, 5038.20it/s]"
     ]
    },
    {
     "name": "stdout",
     "output_type": "stream",
     "text": [
      "Final bucket list [[1, 3], [4, 6], [7, 8]]\n",
      "Best error array [[0, 0, 0, 0], [0, 0.0, inf, inf], [0, 2.0, 0, inf], [0, 2.0, 0.5, 0], [0, 8.75, 2.0, 0.5], [0, 10.0, 2.0, 0.5], [0, 13.333333333333329, 2.0, 0.5], [0, 63.71428571428572, 13.333333333333329, 2.0], [0, 161.5, 13.333333333333329, 10.0]]\n"
     ]
    },
    {
     "name": "stderr",
     "output_type": "stream",
     "text": [
      "\n"
     ]
    }
   ],
   "source": [
    "min_index[1]=1\n",
    "\n",
    "for k in range(1,b+1): \n",
    "    last_boundary = 0\n",
    "    for i in tqdm(range (1,n+1)): \n",
    "        if(k==1): \n",
    "            best_err[i][k]=get_squared_error(1,i) \n",
    "        else: \n",
    "            best_err[i][k]=float('inf') \n",
    "            for j in range(1, i): \n",
    "                minimum = min(best_err[i][k], best_err[j][k-1]+get_squared_error(j+1,i))\n",
    "                if (minimum<best_err[i][k]): \n",
    "                    min_index[i]=j+1\n",
    "                best_err[i][k] = minimum\n",
    "#             print(best_err[i][k])\n",
    "#             print((1+delta)*last_boundary)\n",
    "            \n",
    "            if(best_err[i][k]!=float('inf')):\n",
    "                if(best_err[i][k]>(1+delta)*last_boundary):\n",
    "                    last_boundary = best_err[i][k]\n",
    "#                     print(\"new bucket added\")\n",
    "                else:\n",
    "                    best_err[i][k] = last_boundary\n",
    "#             print(last_boundary)\n",
    "#             print(best_err[i][k])\n",
    "#         print(best_err[i][k])\n",
    "                \n",
    "\n",
    "#         print(\"Element = \",i,\" Bucket = \",k,\"Best error\",best_err[i][k])\n",
    "#         print(best_err)\n",
    "    \n",
    "i=b\n",
    "j=n\n",
    "final_buckets=[]\n",
    "while i>=2:\n",
    "    end_pt = j\n",
    "    j = min_index[j]\n",
    "    final_buckets.append([j, end_pt])\n",
    "    i = i-1\n",
    "    j = j-1\n",
    "final_buckets.append([1, j])\n",
    "final_buckets.reverse()\n",
    "\n",
    "print(\"Final bucket list\",final_buckets)\n",
    "print(\"Best error array\",best_err) \n",
    "# print(\"Min Index array\",min_index)"
   ]
  },
  {
   "cell_type": "code",
   "execution_count": null,
   "metadata": {},
   "outputs": [],
   "source": []
  }
 ],
 "metadata": {
  "kernelspec": {
   "display_name": "Python 3",
   "language": "python",
   "name": "python3"
  },
  "language_info": {
   "codemirror_mode": {
    "name": "ipython",
    "version": 3
   },
   "file_extension": ".py",
   "mimetype": "text/x-python",
   "name": "python",
   "nbconvert_exporter": "python",
   "pygments_lexer": "ipython3",
   "version": "3.8.5"
  }
 },
 "nbformat": 4,
 "nbformat_minor": 4
}
