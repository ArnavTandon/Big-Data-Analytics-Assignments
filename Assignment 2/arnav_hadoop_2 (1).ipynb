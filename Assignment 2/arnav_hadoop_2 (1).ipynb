{
  "nbformat": 4,
  "nbformat_minor": 0,
  "metadata": {
    "kernelspec": {
      "display_name": "Python 3",
      "language": "python",
      "name": "python3"
    },
    "language_info": {
      "codemirror_mode": {
        "name": "ipython",
        "version": 3
      },
      "file_extension": ".py",
      "mimetype": "text/x-python",
      "name": "python",
      "nbconvert_exporter": "python",
      "pygments_lexer": "ipython3",
      "version": "3.7.0"
    },
    "colab": {
      "name": "arnav_hadoop_2.ipynb",
      "provenance": []
    }
  },
  "cells": [
    {
      "cell_type": "code",
      "metadata": {
        "id": "va8bpmY2iXFJ",
        "outputId": "2f5bc911-f4c1-4f61-d291-f96584de4703"
      },
      "source": [
        ""
      ],
      "execution_count": null,
      "outputs": [
        {
          "output_type": "stream",
          "text": [
            "Requirement already satisfied: findspark in ./anaconda3/lib/python3.7/site-packages (1.4.2)\r\n"
          ],
          "name": "stdout"
        }
      ]
    },
    {
      "cell_type": "code",
      "metadata": {
        "id": "qwrqoilSiXFN"
      },
      "source": [
        "import findspark\n",
        "findspark.init()"
      ],
      "execution_count": null,
      "outputs": []
    },
    {
      "cell_type": "code",
      "metadata": {
        "id": "4gWjJ7XxiXFO"
      },
      "source": [
        "from pyspark.sql import SparkSession"
      ],
      "execution_count": null,
      "outputs": []
    },
    {
      "cell_type": "code",
      "metadata": {
        "id": "bGfts3cAiXFP"
      },
      "source": [
        "from pyspark.sql import SparkSession\n",
        "my_spark = SparkSession.builder.master(\"spark://127.0.0.1:7077\").appName(\"hadoop\").getOrCreate()"
      ],
      "execution_count": null,
      "outputs": []
    },
    {
      "cell_type": "code",
      "metadata": {
        "id": "PYtaxXRdiXFP"
      },
      "source": [
        "sqlCon = SQLContext(spark)"
      ],
      "execution_count": null,
      "outputs": []
    },
    {
      "cell_type": "code",
      "metadata": {
        "id": "lXJns7VmiXFQ"
      },
      "source": [
        "df2 = sqlCon.read.option(\"header\",False) \\\n",
        "     .option(\"inferScema\", True) \\\n",
        "     .csv(\"hdfs:///ass1/pullreq_events.csv\") \\"
      ],
      "execution_count": null,
      "outputs": []
    },
    {
      "cell_type": "code",
      "metadata": {
        "id": "3SyCCrAuiXFQ"
      },
      "source": [
        "df3 = df2.withColumnRenamed(\"_c0\",\"pull_requestid\") \\\n",
        "    .withColumnRenamed(\"_c1\",\"author\") \\\n",
        "    .withColumnRenamed(\"_c2\", \"event\") \\\n",
        "    .withColumnRenamed(\"_c3\", \"time\")"
      ],
      "execution_count": null,
      "outputs": []
    },
    {
      "cell_type": "code",
      "metadata": {
        "id": "A7cQSlVgiXFR",
        "outputId": "d468c33a-ea1a-4a85-d460-b212f0b1278b"
      },
      "source": [
        "spark.sql(\"drop view pr\")"
      ],
      "execution_count": null,
      "outputs": [
        {
          "output_type": "execute_result",
          "data": {
            "text/plain": [
              "DataFrame[]"
            ]
          },
          "metadata": {
            "tags": []
          },
          "execution_count": 53
        }
      ]
    },
    {
      "cell_type": "code",
      "metadata": {
        "id": "emybCDmniXFS"
      },
      "source": [
        "df3.createTempView(\"pr\")"
      ],
      "execution_count": null,
      "outputs": []
    },
    {
      "cell_type": "code",
      "metadata": {
        "id": "j0It4d1uiXFS",
        "outputId": "8cb86d79-2c8b-464c-d776-2d7333f00f14"
      },
      "source": [
        "%%time\n",
        "my_spark.sql(\" select a.name,b.week,b.countscore \\\n",
        "from(select hello.name, max(events) even, hello.week \\\n",
        "from (select author as name,date_trunc('week',time) week, count(event) events \\\n",
        "from pr where event='discussed' \\\n",
        "group by date_trunc('week',time), author) as hello \\\n",
        "group by hello.week,hello.name \\\n",
        "order by week,even desc)as a, \\\n",
        "(select hello.week, max(events) countscore \\\n",
        "from (select date_trunc('week',time) week, count(event) events \\\n",
        "from pr where event='discussed' \\\n",
        "group by date_trunc('week',time), author) as hello \\\n",
        "group by hello.week)as b \\\n",
        "where a.week=b.week and a.even=b.countscore\").show()"
      ],
      "execution_count": null,
      "outputs": [
        {
          "output_type": "stream",
          "text": [
            "+------------+-------------------+----------+\n",
            "|        name|               week|countscore|\n",
            "+------------+-------------------+----------+\n",
            "|       mikel|2010-09-06 00:00:00|        16|\n",
            "|       mikel|2010-09-13 00:00:00|         6|\n",
            "|   josevalim|2010-09-20 00:00:00|         9|\n",
            "|   josevalim|2010-09-27 00:00:00|         6|\n",
            "|   josevalim|2010-10-04 00:00:00|        12|\n",
            "|   josevalim|2010-10-11 00:00:00|         6|\n",
            "|    krekoten|2010-10-18 00:00:00|         4|\n",
            "|         fxn|2010-10-25 00:00:00|         1|\n",
            "|  spastorino|2010-11-01 00:00:00|         2|\n",
            "|        rsim|2010-11-01 00:00:00|         2|\n",
            "|   josevalim|2010-11-08 00:00:00|         6|\n",
            "|franckverrot|2010-11-15 00:00:00|         3|\n",
            "|   josevalim|2010-11-15 00:00:00|         3|\n",
            "|  tenderlove|2010-11-22 00:00:00|         6|\n",
            "|   josevalim|2010-11-29 00:00:00|         4|\n",
            "|      drogus|2010-12-06 00:00:00|         2|\n",
            "|   josevalim|2010-12-13 00:00:00|         7|\n",
            "|         dhh|2010-12-20 00:00:00|         5|\n",
            "|      jeremy|2011-01-03 00:00:00|        21|\n",
            "|   josevalim|2011-01-10 00:00:00|         2|\n",
            "+------------+-------------------+----------+\n",
            "only showing top 20 rows\n",
            "\n",
            "CPU times: user 8.35 ms, sys: 0 ns, total: 8.35 ms\n",
            "Wall time: 16.6 s\n"
          ],
          "name": "stdout"
        }
      ]
    },
    {
      "cell_type": "code",
      "metadata": {
        "id": "sE9uAD1eiXFT",
        "outputId": "12dab2d2-7702-47b6-8e67-804d91da4fd6"
      },
      "source": [
        "%%time\n",
        "my_spark.sql(\"select a.name,b.monthnumber,b.countscore from(select hello.name, max(events) even, hello.monthnumber   from (select author as name,EXTRACT(MONTH from time) monthnumber, count(event) events   from pr where event='discussed'  group by EXTRACT(MONTH from time), author) as hello   group by hello.monthnumber,hello.name  order by monthnumber,even desc)as a,  (select hello.monthnumber, max(events) countscore   from (select EXTRACT(MONTH from time) monthnumber, count(event) events   from pr where event='discussed'  group by EXTRACT(MONTH from time), author) as hello  group by hello.monthnumber)as b  where a.monthnumber=b.monthnumber and a.even=b.countscore\").show()"
      ],
      "execution_count": null,
      "outputs": [
        {
          "output_type": "stream",
          "text": [
            "+------------+-----------+----------+\n",
            "|        name|monthnumber|countscore|\n",
            "+------------+-----------+----------+\n",
            "|rafaelfranca|          1|       828|\n",
            "|rafaelfranca|          2|       555|\n",
            "|rafaelfranca|          3|       580|\n",
            "|rafaelfranca|          4|       758|\n",
            "|rafaelfranca|          5|       915|\n",
            "|rafaelfranca|          6|       582|\n",
            "|rafaelfranca|          7|       579|\n",
            "|rafaelfranca|          8|       651|\n",
            "|rafaelfranca|          9|       585|\n",
            "|rafaelfranca|         10|       667|\n",
            "|rafaelfranca|         11|       590|\n",
            "|   rails-bot|         12|       546|\n",
            "+------------+-----------+----------+\n",
            "\n",
            "CPU times: user 3.2 ms, sys: 12.8 ms, total: 16 ms\n",
            "Wall time: 13.1 s\n"
          ],
          "name": "stdout"
        }
      ]
    },
    {
      "cell_type": "code",
      "metadata": {
        "id": "ewAwRfoniXFU"
      },
      "source": [
        ""
      ],
      "execution_count": null,
      "outputs": []
    },
    {
      "cell_type": "code",
      "metadata": {
        "id": "RaEmPPnKiXFU",
        "outputId": "15981b34-8366-4e65-b159-8c72cb014b7a"
      },
      "source": [
        "%%time\n",
        "#1b\n",
        "my_spark.sql(\"select event,date(time),count(*) from pr group by event,date(time) having event='discussed' order by date(time)\").show()"
      ],
      "execution_count": null,
      "outputs": [
        {
          "output_type": "stream",
          "text": [
            "+---------+----------+--------+\n",
            "|    event|      time|count(1)|\n",
            "+---------+----------+--------+\n",
            "|discussed|2010-09-09|       6|\n",
            "|discussed|2010-09-10|      10|\n",
            "|discussed|2010-09-11|      13|\n",
            "|discussed|2010-09-12|       5|\n",
            "|discussed|2010-09-13|       7|\n",
            "|discussed|2010-09-14|       1|\n",
            "|discussed|2010-09-15|       3|\n",
            "|discussed|2010-09-16|       2|\n",
            "|discussed|2010-09-17|       1|\n",
            "|discussed|2010-09-21|       6|\n",
            "|discussed|2010-09-22|       3|\n",
            "|discussed|2010-09-23|       5|\n",
            "|discussed|2010-09-24|       3|\n",
            "|discussed|2010-09-25|       5|\n",
            "|discussed|2010-09-27|       3|\n",
            "|discussed|2010-09-29|       2|\n",
            "|discussed|2010-09-30|       3|\n",
            "|discussed|2010-10-01|       2|\n",
            "|discussed|2010-10-04|       8|\n",
            "|discussed|2010-10-06|      15|\n",
            "+---------+----------+--------+\n",
            "only showing top 20 rows\n",
            "\n",
            "CPU times: user 1.39 ms, sys: 12.1 ms, total: 13.5 ms\n",
            "Wall time: 2.03 s\n"
          ],
          "name": "stdout"
        }
      ]
    },
    {
      "cell_type": "code",
      "metadata": {
        "id": "hrJXLa3NiXFV",
        "outputId": "bda91d3c-cef0-4172-8970-43b30368447d"
      },
      "source": [
        "%%time\n",
        "#5\n",
        "my_spark.sql(\"select EXTRACT(MONTH FROM time) mon, count(event) from pr where event='merged' and extract(year from time)=2010 group by mon\").show()"
      ],
      "execution_count": null,
      "outputs": [
        {
          "output_type": "stream",
          "text": [
            "+---+------------+\n",
            "|mon|count(event)|\n",
            "+---+------------+\n",
            "+---+------------+\n",
            "\n",
            "CPU times: user 0 ns, sys: 9.8 ms, total: 9.8 ms\n",
            "Wall time: 2.02 s\n"
          ],
          "name": "stdout"
        }
      ]
    },
    {
      "cell_type": "code",
      "metadata": {
        "id": "ZqoSiMsPiXFW",
        "outputId": "391f171b-32f0-4723-8459-c09081548c0d"
      },
      "source": [
        "%%time\n",
        "#1\n",
        "my_spark.sql(\"select event,date(time),count(*) from pr group by event,date(time) having event='opened' order by date(time)\").show()"
      ],
      "execution_count": null,
      "outputs": [
        {
          "output_type": "stream",
          "text": [
            "+------+----------+--------+\n",
            "| event|      time|count(1)|\n",
            "+------+----------+--------+\n",
            "|opened|2010-09-02|       2|\n",
            "|opened|2010-09-06|       1|\n",
            "|opened|2010-09-08|       1|\n",
            "|opened|2010-09-09|       4|\n",
            "|opened|2010-09-10|       3|\n",
            "|opened|2010-09-11|       3|\n",
            "|opened|2010-09-12|       3|\n",
            "|opened|2010-09-13|       3|\n",
            "|opened|2010-09-15|       2|\n",
            "|opened|2010-09-16|       2|\n",
            "|opened|2010-09-18|       6|\n",
            "|opened|2010-09-19|       4|\n",
            "|opened|2010-09-20|       2|\n",
            "|opened|2010-09-22|       1|\n",
            "|opened|2010-09-23|       4|\n",
            "|opened|2010-09-24|       5|\n",
            "|opened|2010-09-25|       5|\n",
            "|opened|2010-09-27|       4|\n",
            "|opened|2010-09-28|       2|\n",
            "|opened|2010-09-29|       2|\n",
            "+------+----------+--------+\n",
            "only showing top 20 rows\n",
            "\n",
            "CPU times: user 5.03 ms, sys: 2.05 ms, total: 7.07 ms\n",
            "Wall time: 2.18 s\n"
          ],
          "name": "stdout"
        }
      ]
    },
    {
      "cell_type": "code",
      "metadata": {
        "id": "zHsKhe8miXFW",
        "outputId": "a10f9830-1d2a-4b1c-9a66-b97645fc3e03"
      },
      "source": [
        "%%time\n",
        "#6\n",
        "my_spark.sql(\"select date(time), count(pull_requestId) from pr group by date(time) order by date(time)\").show()"
      ],
      "execution_count": null,
      "outputs": [
        {
          "output_type": "stream",
          "text": [
            "+----------+---------------------+\n",
            "|      time|count(pull_requestId)|\n",
            "+----------+---------------------+\n",
            "|2010-09-02|                    2|\n",
            "|2010-09-06|                    1|\n",
            "|2010-09-08|                    1|\n",
            "|2010-09-09|                   10|\n",
            "|2010-09-10|                   13|\n",
            "|2010-09-11|                   16|\n",
            "|2010-09-12|                    8|\n",
            "|2010-09-13|                   10|\n",
            "|2010-09-14|                    1|\n",
            "|2010-09-15|                    5|\n",
            "|2010-09-16|                    4|\n",
            "|2010-09-17|                    1|\n",
            "|2010-09-18|                    6|\n",
            "|2010-09-19|                    4|\n",
            "|2010-09-20|                    2|\n",
            "|2010-09-21|                    6|\n",
            "|2010-09-22|                    4|\n",
            "|2010-09-23|                    9|\n",
            "|2010-09-24|                    8|\n",
            "|2010-09-25|                   10|\n",
            "+----------+---------------------+\n",
            "only showing top 20 rows\n",
            "\n",
            "CPU times: user 5.82 ms, sys: 2.36 ms, total: 8.19 ms\n",
            "Wall time: 2.13 s\n"
          ],
          "name": "stdout"
        }
      ]
    },
    {
      "cell_type": "code",
      "metadata": {
        "id": "oYpAxtJmiXFX",
        "outputId": "93f95c2d-28ef-4526-e97f-92bb5ff17927"
      },
      "source": [
        "%%time\n",
        "#7\n",
        "my_spark.sql(\"select author, count(event) events from pr where event='opened' and extract(year from time)=2011 group by author order by events desc limit 1\").show()"
      ],
      "execution_count": null,
      "outputs": [
        {
          "output_type": "stream",
          "text": [
            "+-------+------+\n",
            "| author|events|\n",
            "+-------+------+\n",
            "|arunagw|   228|\n",
            "+-------+------+\n",
            "\n",
            "CPU times: user 4.3 ms, sys: 1.76 ms, total: 6.06 ms\n",
            "Wall time: 2.54 s\n"
          ],
          "name": "stdout"
        }
      ]
    },
    {
      "cell_type": "code",
      "metadata": {
        "id": "gofPdJEciXFX",
        "outputId": "c4cc8518-7cc2-4746-f8aa-7a97e1903484"
      },
      "source": [
        "%%time\n",
        "#3\n",
        "my_spark.sql(\"select a.name,b.week,b.countscore   from(select hello.name, max(events) even, hello.week  from (select author as name,date_trunc('week',time) week, count(event) events  from pr where event='discussed'   group by date_trunc('week',time), author) as hello  group by hello.week,hello.name  order by week,even desc)as a,   (select hello.week, max(events) countscore  from (select date_trunc('week',time) week, count(event) events  from pr where event='discussed'   group by date_trunc('week',time), author) as hello  group by hello.week)as b  where a.week=b.week and a.even=b.countscore\").show()"
      ],
      "execution_count": null,
      "outputs": [
        {
          "output_type": "stream",
          "text": [
            "+------------+-------------------+----------+\n",
            "|        name|               week|countscore|\n",
            "+------------+-------------------+----------+\n",
            "|       mikel|2010-09-06 00:00:00|        16|\n",
            "|       mikel|2010-09-13 00:00:00|         6|\n",
            "|   josevalim|2010-09-20 00:00:00|         9|\n",
            "|   josevalim|2010-09-27 00:00:00|         6|\n",
            "|   josevalim|2010-10-04 00:00:00|        12|\n",
            "|   josevalim|2010-10-11 00:00:00|         6|\n",
            "|    krekoten|2010-10-18 00:00:00|         4|\n",
            "|         fxn|2010-10-25 00:00:00|         1|\n",
            "|  spastorino|2010-11-01 00:00:00|         2|\n",
            "|        rsim|2010-11-01 00:00:00|         2|\n",
            "|   josevalim|2010-11-08 00:00:00|         6|\n",
            "|franckverrot|2010-11-15 00:00:00|         3|\n",
            "|   josevalim|2010-11-15 00:00:00|         3|\n",
            "|  tenderlove|2010-11-22 00:00:00|         6|\n",
            "|   josevalim|2010-11-29 00:00:00|         4|\n",
            "|      drogus|2010-12-06 00:00:00|         2|\n",
            "|   josevalim|2010-12-13 00:00:00|         7|\n",
            "|         dhh|2010-12-20 00:00:00|         5|\n",
            "|      jeremy|2011-01-03 00:00:00|        21|\n",
            "|   josevalim|2011-01-10 00:00:00|         2|\n",
            "+------------+-------------------+----------+\n",
            "only showing top 20 rows\n",
            "\n",
            "CPU times: user 10.9 ms, sys: 0 ns, total: 10.9 ms\n",
            "Wall time: 15.6 s\n"
          ],
          "name": "stdout"
        }
      ]
    },
    {
      "cell_type": "code",
      "metadata": {
        "id": "Gmq44UXDiXFY"
      },
      "source": [
        ""
      ],
      "execution_count": null,
      "outputs": []
    }
  ]
}