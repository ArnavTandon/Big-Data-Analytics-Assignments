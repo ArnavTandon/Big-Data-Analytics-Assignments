{
  "nbformat": 4,
  "nbformat_minor": 0,
  "metadata": {
    "kernelspec": {
      "display_name": "Python 3",
      "language": "python",
      "name": "python3"
    },
    "language_info": {
      "codemirror_mode": {
        "name": "ipython",
        "version": 3
      },
      "file_extension": ".py",
      "mimetype": "text/x-python",
      "name": "python",
      "nbconvert_exporter": "python",
      "pygments_lexer": "ipython3",
      "version": "3.7.0"
    },
    "colab": {
      "name": "hadoop_arnav.ipynb",
      "provenance": []
    }
  },
  "cells": [
    {
      "cell_type": "code",
      "metadata": {
        "id": "yJzEvuRNei58",
        "outputId": "4afbae29-4442-45d2-f8fc-0176aa330cf9"
      },
      "source": [
        ""
      ],
      "execution_count": null,
      "outputs": [
        {
          "output_type": "stream",
          "text": [
            "Requirement already satisfied: findspark in ./anaconda3/lib/python3.7/site-packages (1.4.2)\r\n"
          ],
          "name": "stdout"
        }
      ]
    },
    {
      "cell_type": "code",
      "metadata": {
        "id": "r7i9V-3Iei6B"
      },
      "source": [
        "import findspark\n",
        "findspark.init()"
      ],
      "execution_count": null,
      "outputs": []
    },
    {
      "cell_type": "code",
      "metadata": {
        "id": "9FbN03x2ei6C"
      },
      "source": [
        "from pyspark.sql import SQLContext\n",
        "from pyspark import SparkContext\n",
        "import pyspark\n",
        "from pyspark.sql import SparkSession"
      ],
      "execution_count": null,
      "outputs": []
    },
    {
      "cell_type": "code",
      "metadata": {
        "id": "KlNWO-tIei6C"
      },
      "source": [
        "sc = SparkContext('local', 'Spark SQL') "
      ],
      "execution_count": null,
      "outputs": []
    },
    {
      "cell_type": "code",
      "metadata": {
        "id": "vC9B8GDAei6D",
        "outputId": "9fc74b9d-a7b7-408b-f55d-17d1ac1ff7ac"
      },
      "source": [
        "sc.version"
      ],
      "execution_count": null,
      "outputs": [
        {
          "output_type": "execute_result",
          "data": {
            "text/plain": [
              "'2.4.7'"
            ]
          },
          "metadata": {
            "tags": []
          },
          "execution_count": 5
        }
      ]
    },
    {
      "cell_type": "code",
      "metadata": {
        "id": "maPMfWOAei6D"
      },
      "source": [
        "sqlcon = SQLContext(sc)"
      ],
      "execution_count": null,
      "outputs": []
    },
    {
      "cell_type": "code",
      "metadata": {
        "id": "ErmblOLKei6E"
      },
      "source": [
        "df2 = sqlcon.read.option(\"header\",False) \\\n",
        "     .option(\"inferScema\", True) \\\n",
        "     .csv(\"hdfs:///ass1/pullreq_events.csv\") \\"
      ],
      "execution_count": null,
      "outputs": []
    },
    {
      "cell_type": "code",
      "metadata": {
        "id": "ko4kXde7ei6E"
      },
      "source": [
        "df3 = df2.withColumnRenamed(\"_c0\",\"pull_requestid\") \\\n",
        "    .withColumnRenamed(\"_c1\",\"author\") \\\n",
        "    .withColumnRenamed(\"_c2\", \"event\") \\\n",
        "    .withColumnRenamed(\"_c3\", \"time\")"
      ],
      "execution_count": null,
      "outputs": []
    },
    {
      "cell_type": "code",
      "metadata": {
        "id": "cMSTlZWTei6F"
      },
      "source": [
        "df3.createTempView(\"pr\")"
      ],
      "execution_count": null,
      "outputs": []
    },
    {
      "cell_type": "code",
      "metadata": {
        "id": "5lx26L_hei6F",
        "outputId": "b2e1b63e-eede-4940-d755-0aa20400457a"
      },
      "source": [
        "%%time\n",
        "sqlcon.sql(\" select a.name,b.week,b.countscore \\\n",
        "from(select hello.name, max(events) even, hello.week \\\n",
        "from (select author as name,date_trunc('week',time) week, count(event) events \\\n",
        "from pr where event='discussed' \\\n",
        "group by date_trunc('week',time), author) as hello \\\n",
        "group by hello.week,hello.name \\\n",
        "order by week,even desc)as a, \\\n",
        "(select hello.week, max(events) countscore \\\n",
        "from (select date_trunc('week',time) week, count(event) events \\\n",
        "from pr where event='discussed' \\\n",
        "group by date_trunc('week',time), author) as hello \\\n",
        "group by hello.week)as b \\\n",
        "where a.week=b.week and a.even=b.countscore\").show()"
      ],
      "execution_count": null,
      "outputs": [
        {
          "output_type": "stream",
          "text": [
            "+------------+-------------------+----------+\n",
            "|        name|               week|countscore|\n",
            "+------------+-------------------+----------+\n",
            "|       mikel|2010-09-06 00:00:00|        16|\n",
            "|       mikel|2010-09-13 00:00:00|         6|\n",
            "|   josevalim|2010-09-20 00:00:00|         9|\n",
            "|   josevalim|2010-09-27 00:00:00|         6|\n",
            "|   josevalim|2010-10-04 00:00:00|        12|\n",
            "|   josevalim|2010-10-11 00:00:00|         6|\n",
            "|    krekoten|2010-10-18 00:00:00|         4|\n",
            "|         fxn|2010-10-25 00:00:00|         1|\n",
            "|  spastorino|2010-11-01 00:00:00|         2|\n",
            "|        rsim|2010-11-01 00:00:00|         2|\n",
            "|   josevalim|2010-11-08 00:00:00|         6|\n",
            "|franckverrot|2010-11-15 00:00:00|         3|\n",
            "|   josevalim|2010-11-15 00:00:00|         3|\n",
            "|  tenderlove|2010-11-22 00:00:00|         6|\n",
            "|   josevalim|2010-11-29 00:00:00|         4|\n",
            "|      drogus|2010-12-06 00:00:00|         2|\n",
            "|   josevalim|2010-12-13 00:00:00|         7|\n",
            "|         dhh|2010-12-20 00:00:00|         5|\n",
            "|      jeremy|2011-01-03 00:00:00|        21|\n",
            "|   josevalim|2011-01-10 00:00:00|         2|\n",
            "+------------+-------------------+----------+\n",
            "only showing top 20 rows\n",
            "\n",
            "CPU times: user 19.7 ms, sys: 14.1 ms, total: 33.8 ms\n",
            "Wall time: 27.5 s\n"
          ],
          "name": "stdout"
        }
      ]
    },
    {
      "cell_type": "code",
      "metadata": {
        "id": "82wb8wYIei6G",
        "outputId": "c874d608-f0cb-46dc-a325-1f874518f618"
      },
      "source": [
        "%%time\n",
        "sqlcon.sql(\"select a.name,b.monthnumber,b.countscore from(select hello.name, max(events) even, hello.monthnumber   from (select author as name,EXTRACT(MONTH from time) monthnumber, count(event) events   from pr where event='discussed'  group by EXTRACT(MONTH from time), author) as hello   group by hello.monthnumber,hello.name  order by monthnumber,even desc)as a,  (select hello.monthnumber, max(events) countscore   from (select EXTRACT(MONTH from time) monthnumber, count(event) events   from pr where event='discussed'  group by EXTRACT(MONTH from time), author) as hello  group by hello.monthnumber)as b  where a.monthnumber=b.monthnumber and a.even=b.countscore\").show()"
      ],
      "execution_count": null,
      "outputs": [
        {
          "output_type": "stream",
          "text": [
            "+-------------------+---------------------+\n",
            "|          weekstamp|count(pull_requestid)|\n",
            "+-------------------+---------------------+\n",
            "|2010-08-30 00:00:00|                    2|\n",
            "|2010-09-06 00:00:00|                   15|\n",
            "|2010-09-13 00:00:00|                   17|\n",
            "|2010-09-20 00:00:00|                   17|\n",
            "|2010-09-27 00:00:00|                   13|\n",
            "|2010-10-04 00:00:00|                   10|\n",
            "|2010-10-11 00:00:00|                    5|\n",
            "|2010-10-18 00:00:00|                    5|\n",
            "|2010-10-25 00:00:00|                    3|\n",
            "|2010-11-01 00:00:00|                    4|\n",
            "|2010-11-08 00:00:00|                    9|\n",
            "|2010-11-15 00:00:00|                    8|\n",
            "|2010-11-22 00:00:00|                    9|\n",
            "|2010-11-29 00:00:00|                    6|\n",
            "|2010-12-06 00:00:00|                    5|\n",
            "|2010-12-13 00:00:00|                    6|\n",
            "|2010-12-20 00:00:00|                    7|\n",
            "|2010-12-27 00:00:00|                    4|\n",
            "|2011-01-03 00:00:00|                    9|\n",
            "|2011-01-10 00:00:00|                    7|\n",
            "+-------------------+---------------------+\n",
            "only showing top 20 rows\n",
            "\n",
            "CPU times: user 4.63 ms, sys: 1.77 ms, total: 6.4 ms\n",
            "Wall time: 2.98 s\n"
          ],
          "name": "stdout"
        }
      ]
    },
    {
      "cell_type": "code",
      "metadata": {
        "id": "R30zOPRsei6H"
      },
      "source": [
        "%%time\n",
        "sqlcon.sql(\"select author, count(event) events from pr where event='opened' and extract(year from time)=2011 group by author order by events desc limit 1\").show()"
      ],
      "execution_count": null,
      "outputs": []
    },
    {
      "cell_type": "code",
      "metadata": {
        "id": "bgk5ySObfDLY"
      },
      "source": [
        "%%time\n",
        "sqlcon.sql(\"select date(time), count(pull_requestId) from pr group by date(time) order by date(time)\").show()"
      ],
      "execution_count": null,
      "outputs": []
    },
    {
      "cell_type": "code",
      "metadata": {
        "id": "QILz4aS_fJZS"
      },
      "source": [
        "%%time\n",
        "sqlcon.sql(\"select to_char(time, 'MM-YYYY') mon, count(event) from pr where event='merged' and extract(year from time)=2010 group by mon\").show()"
      ],
      "execution_count": null,
      "outputs": []
    },
    {
      "cell_type": "code",
      "metadata": {
        "id": "YDTlGS0IfjJS"
      },
      "source": [
        "%%time\n",
        "sqlcon.sql(\"select event,date(time),count(*) from pr group by event,date(time) having event='opened' order by date(time)\").show()"
      ],
      "execution_count": null,
      "outputs": []
    },
    {
      "cell_type": "code",
      "metadata": {
        "id": "1Fw06WnPfo3R"
      },
      "source": [
        "%%time\n",
        "sqlcon.sql(\"select event,date(time),count(*) from pr group by event,date(time) having event='discussed' order by date(time)\").show()"
      ],
      "execution_count": null,
      "outputs": []
    }
  ]
}